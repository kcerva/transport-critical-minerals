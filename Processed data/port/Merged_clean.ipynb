{
 "cells": [
  {
   "cell_type": "code",
   "execution_count": 1,
   "id": "236b7426-01f7-4cdc-b398-2f2f51d04fb6",
   "metadata": {
    "tags": []
   },
   "outputs": [],
   "source": [
    "import geopandas as gpd\n",
    "import pandas as pd\n",
    "\n",
    "# 1. Read data\n",
    "path = \"C:/Users/engs2461/Documents/Git_project/transport-critical-minerals/Incoming data/ports\"\n",
    "df_ports_shp = gpd.read_file(f\"{path}/AFR_Infra_Transport_Ports.shp/AFR_Infra_Transport_Ports.shp\")\n",
    "df_africa_ports = gpd.read_file(f\"{path}/africa_ports.gpkg\", layer='nodes')\n",
    "df_corridor = gpd.read_file(f\"{path}/AfricanDevelopmentCorridorDatabase2022.gpkg\", layer='point')\n",
    "corridor_port_data = df_corridor[df_corridor[\"Infrastructure_development_type\"] == \"Port\"]\n",
    "africa_ports=df_africa_ports[df_africa_ports[\"infra\"]==\"port\"]\n",
    "corridor_port_data = corridor_port_data.copy()\n",
    "corridor_port_data.loc[:, 'FeatureUID'] = corridor_port_data['Project_code'].str[:3] + corridor_port_data['Project_code'].str[-2:]\n",
    "# 2. Set CRS'EPSG:4326'（WGS84）\n",
    "if df_ports_shp.crs is None:\n",
    "    df_ports_shp.set_crs(\"EPSG:4326\", inplace=True)\n",
    "\n",
    "# 3.  proj\n",
    "proj_crs = \"EPSG:3395\"  # World Mercator projection\n",
    "df_ports_shp_proj = df_ports_shp.to_crs(proj_crs)\n",
    "\n",
    "\n",
    "# 2. Convert to a projected CRS before performing buffer operations\n",
    "proj_crs = \"EPSG:3395\"  # World Mercator projection\n",
    "df_ports_shp_proj = df_ports_shp.to_crs(proj_crs) #USGS\n",
    "df_africa_ports_proj = africa_ports.to_crs(proj_crs)\n",
    "df_corridor_proj = corridor_port_data.to_crs(proj_crs)\n",
    "\n",
    "# 3. Set buffer\n",
    "buffer_distance = 0.03 * 111000  # 2.2km in meters\n",
    "df_ports_shp_proj['geometry'] = df_ports_shp_proj.buffer(buffer_distance)\n",
    "df_africa_ports_proj['geometry'] = df_africa_ports_proj.buffer(buffer_distance)\n",
    "df_corridor_proj['geometry'] = df_corridor_proj.buffer(buffer_distance)"
   ]
  },
  {
   "cell_type": "code",
   "execution_count": 5,
   "id": "f6c2ed5d-590e-44e9-8539-6134dd8236c7",
   "metadata": {
    "tags": []
   },
   "outputs": [
    {
     "name": "stdout",
     "output_type": "stream",
     "text": [
      "Duplicated geometries in merged_shp_gpkg: 167\n",
      "Duplicated geometries in merged_shp_corridor: 0\n"
     ]
    }
   ],
   "source": [
    "# 5. Spatial join between the datasets\n",
    "merged_shp_gpkg = gpd.sjoin(df_ports_shp_proj, df_africa_ports_proj, how=\"inner\", predicate=\"intersects\",lsuffix='_gpkg', rsuffix='_africa')\n",
    "merged_shp_corridor = gpd.sjoin(df_africa_ports_proj, df_corridor_proj, how=\"inner\", predicate=\"intersects\",lsuffix='_gpkg', rsuffix='_corridor')\n",
    "merged_three = gpd.sjoin(merged_shp_gpkg, merged_shp_corridor, how=\"inner\", predicate=\"intersects\")\n",
    "# Check for duplicates in merged_shp_gpkg\n",
    "duplicates_gpkg = merged_shp_gpkg[merged_shp_gpkg.duplicated(subset='geometry', keep=False)]\n",
    "print(\"Duplicated geometries in merged_shp_gpkg:\", len(duplicates_gpkg))\n",
    "\n",
    "# Check for duplicates in merged_shp_corridor\n",
    "duplicates_corridor = merged_shp_corridor[merged_shp_corridor.duplicated(subset='geometry', keep=False)]\n",
    "print(\"Duplicated geometries in merged_shp_corridor:\", len(duplicates_corridor))\n",
    "merged_shp_gpkg.drop_duplicates(subset='geometry', inplace=True)\n",
    "merged_three = gpd.sjoin(merged_shp_gpkg, merged_shp_corridor, how=\"inner\", predicate=\"intersects\")"
   ]
  },
  {
   "cell_type": "code",
   "execution_count": 9,
   "id": "de141f38-1f19-4643-9cce-18cb2f52abfd",
   "metadata": {
    "tags": []
   },
   "outputs": [
    {
     "name": "stdout",
     "output_type": "stream",
     "text": [
      "(27, 65)\n"
     ]
    }
   ],
   "source": [
    "print(merged_three.shape)"
   ]
  },
  {
   "cell_type": "code",
   "execution_count": 10,
   "id": "2dfa28ee-0f3e-4e81-a5a0-c13cb166a65e",
   "metadata": {
    "tags": []
   },
   "outputs": [],
   "source": [
    "# Merge all data\n",
    "merged_all = pd.concat([merged_shp_gpkg, merged_shp_corridor,merged_three,df_ports_shp_proj, df_africa_ports_proj,df_corridor_proj])\n",
    "# 2. Drop duplicates. Assuming 'geometry' is the column to identify duplicates:\n",
    "merged_all_unique = merged_all.drop_duplicates(subset='geometry', keep='first')"
   ]
  },
  {
   "cell_type": "code",
   "execution_count": 12,
   "id": "fac442d2-2aea-416c-8258-5d277cc664e4",
   "metadata": {
    "tags": []
   },
   "outputs": [],
   "source": [
    "merged_all = merged_all_unique.copy()\n",
    "merged_all['geometry'] = merged_all['geometry'].centroid"
   ]
  },
  {
   "cell_type": "code",
   "execution_count": 13,
   "id": "d4b44545-4d01-4cfe-adca-9903ba31569a",
   "metadata": {
    "tags": []
   },
   "outputs": [],
   "source": [
    "path_to_shp = r\"C:\\Users\\engs2461\\Documents\\Git_project\\transport-critical-minerals\\Incoming data\\ports\\ne_110m_admin_0_countries\\ne_110m_admin_0_countries.shp\"\n",
    "world = gpd.read_file(path_to_shp)\n",
    "# Reprojecting 'merged_all' to \"EPSG:4326\"\n",
    "merged_all = merged_all.to_crs(\"EPSG:4326\")\n",
    "\n",
    "# Dropping 'index_left' and 'index_right' if they exist in either dataframe\n",
    "for df in [merged_all, world]:\n",
    "    for col in ['index_left', 'index_right']:\n",
    "        if col in df.columns:\n",
    "            df.drop(col, axis=1, inplace=True)\n",
    "\n",
    "# Performing the spatial join\n",
    "merged_with_iso = gpd.sjoin(merged_all, world[['geometry', 'ISO_A3']], how=\"left\", predicate='within')"
   ]
  },
  {
   "cell_type": "code",
   "execution_count": 14,
   "id": "35cbfbac-b1c8-4bfc-a959-6bbba09f2377",
   "metadata": {
    "tags": []
   },
   "outputs": [],
   "source": [
    "output_gpkg_path = r\"C:\\Users\\engs2461\\Documents\\Git_project\\transport-critical-minerals\\Processed data\\merged_with_iso2.gpkg\"\n",
    "merged_with_iso.to_file(output_gpkg_path, driver=\"GPKG\")"
   ]
  },
  {
   "cell_type": "code",
   "execution_count": 15,
   "id": "053da3a9-e1c4-419a-9dfe-2a8ef0795443",
   "metadata": {
    "tags": []
   },
   "outputs": [],
   "source": [
    "# When saving as a CSV, the geometry will be converted to a text representation (WKT format by default).\n",
    "output_csv_path = r\"C:\\Users\\engs2461\\Documents\\Git_project\\transport-critical-minerals\\Processed data\\merged_with_iso2.csv\"\n",
    "merged_with_iso.to_csv(output_csv_path, index=False)"
   ]
  },
  {
   "cell_type": "code",
   "execution_count": 16,
   "id": "74be63da-e1ec-462a-8ca9-150e535e886d",
   "metadata": {
    "tags": []
   },
   "outputs": [
    {
     "name": "stdout",
     "output_type": "stream",
     "text": [
      "Total entries in non_intersected_from_merged: 35\n"
     ]
    }
   ],
   "source": [
    "df_africa_ports_proj = df_africa_ports_proj.to_crs(merged_all.crs)\n",
    "intersected_with_gpkg = gpd.sjoin(merged_all, df_africa_ports_proj, how=\"inner\", predicate=\"intersects\", lsuffix=\"_left\", rsuffix=\"_right\")\n",
    "\n",
    "# Extract points in the `merged_all` that did not intersect with `df_africa_ports_proj`\n",
    "non_intersected_from_merged = merged_all.loc[\n",
    "    ~merged_all.index.isin(intersected_with_gpkg.index)\n",
    "]\n",
    "\n",
    "# Save these points as separate files\n",
    "non_intersected_from_merged.to_file(\"non_intersected_from_merged.gpkg\", driver=\"GPKG\")\n",
    "\n",
    "print(f\"Total entries in non_intersected_from_merged: {len(non_intersected_from_merged)}\")"
   ]
  },
  {
   "cell_type": "code",
   "execution_count": 17,
   "id": "916f4ddb-9099-4d6e-8d66-969bac0322de",
   "metadata": {
    "tags": []
   },
   "outputs": [],
   "source": [
    "output_csv_path = r\"C:\\Users\\engs2461\\Documents\\Git_project\\transport-critical-minerals\\Processed data\\non_intersected_from_merged2.csv\"\n",
    "non_intersected_from_merged.to_csv(output_csv_path, index=False)"
   ]
  },
  {
   "cell_type": "code",
   "execution_count": null,
   "id": "f5b3e9a0-d06a-4014-9f74-783b652f398e",
   "metadata": {},
   "outputs": [],
   "source": []
  }
 ],
 "metadata": {
  "kernelspec": {
   "display_name": "Python 3 (ipykernel)",
   "language": "python",
   "name": "python3"
  },
  "language_info": {
   "codemirror_mode": {
    "name": "ipython",
    "version": 3
   },
   "file_extension": ".py",
   "mimetype": "text/x-python",
   "name": "python",
   "nbconvert_exporter": "python",
   "pygments_lexer": "ipython3",
   "version": "3.11.3"
  }
 },
 "nbformat": 4,
 "nbformat_minor": 5
}
